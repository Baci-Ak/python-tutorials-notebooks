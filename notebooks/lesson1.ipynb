{
 "cells": [
  {
   "cell_type": "code",
   "execution_count": null,
   "metadata": {},
   "outputs": [],
   "source": []
  },
  {
   "cell_type": "markdown",
   "metadata": {},
   "source": [
    "# Python Lesson 1: Hello World\n",
    "\n",
    "In this lesson, we'll start with a simple Python program: printing \"Hello, World!\".\n",
    "\n",
    "```python\n",
    "print(\"Hello, World!\")\n"
   ]
  },
  {
   "cell_type": "code",
   "execution_count": 2,
   "metadata": {},
   "outputs": [
    {
     "name": "stdout",
     "output_type": "stream",
     "text": [
      "Hello World!\n"
     ]
    }
   ],
   "source": [
    "print(\"Hello World!\")"
   ]
  },
  {
   "cell_type": "markdown",
   "metadata": {},
   "source": [
    "\n",
    "This is just a basic example, and you can extend this later.\n",
    "\n",
    "### **Step 1.3: Connecting MyBinder to Your GitHub Repository**\n",
    "\n",
    "1. Go to [MyBinder.org](https://mybinder.org/).\n",
    "2. Enter the URL of your GitHub repository in the field labeled \"GitHub repository name or URL.\"\n",
    "3. You’ll be given a **URL** that can be used to launch the notebooks hosted in your repository.\n",
    "\n",
    "The MyBinder URL will look something like this:\n"
   ]
  },
  {
   "cell_type": "code",
   "execution_count": null,
   "metadata": {},
   "outputs": [],
   "source": []
  }
 ],
 "metadata": {
  "kernelspec": {
   "display_name": "base",
   "language": "python",
   "name": "python3"
  },
  "language_info": {
   "codemirror_mode": {
    "name": "ipython",
    "version": 3
   },
   "file_extension": ".py",
   "mimetype": "text/x-python",
   "name": "python",
   "nbconvert_exporter": "python",
   "pygments_lexer": "ipython3",
   "version": "3.11.5"
  }
 },
 "nbformat": 4,
 "nbformat_minor": 2
}
